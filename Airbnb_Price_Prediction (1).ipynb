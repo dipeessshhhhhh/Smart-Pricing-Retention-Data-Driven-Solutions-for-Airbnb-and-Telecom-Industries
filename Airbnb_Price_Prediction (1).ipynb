{
 "cells": [
  {
   "cell_type": "markdown",
   "id": "e912fd4f",
   "metadata": {},
   "source": [
    "# 📈 Airbnb Price Prediction Project"
   ]
  },
  {
   "cell_type": "code",
   "execution_count": null,
   "id": "b62c93c6",
   "metadata": {},
   "outputs": [],
   "source": [
    "\n",
    "# Import libraries\n",
    "import pandas as pd\n",
    "import numpy as np\n",
    "import matplotlib.pyplot as plt\n",
    "import seaborn as sns\n",
    "\n",
    "from sklearn.model_selection import train_test_split\n",
    "from sklearn.linear_model import LinearRegression\n",
    "from sklearn.metrics import mean_squared_error, mean_absolute_error, r2_score\n",
    "from sklearn.preprocessing import LabelEncoder\n"
   ]
  },
  {
   "cell_type": "code",
   "execution_count": null,
   "id": "6a95b83e",
   "metadata": {},
   "outputs": [],
   "source": [
    "\n",
    "# Load dataset (replace this with actual dataset path)\n",
    "df = pd.read_csv(\"Airbnb_data.csv\")\n",
    "df.head()\n"
   ]
  },
  {
   "cell_type": "code",
   "execution_count": null,
   "id": "37666b93",
   "metadata": {},
   "outputs": [],
   "source": [
    "\n",
    "# Basic data info and missing values\n",
    "df.info()\n",
    "df.isnull().sum()\n"
   ]
  },
  {
   "cell_type": "code",
   "execution_count": null,
   "id": "cad3334e",
   "metadata": {},
   "outputs": [],
   "source": [
    "\n",
    "# Drop rows with missing target or essential features\n",
    "df = df.dropna(subset=['log_price', 'property_type', 'room_type'])\n",
    "df.fillna(method='ffill', inplace=True)\n"
   ]
  },
  {
   "cell_type": "code",
   "execution_count": null,
   "id": "508b53a3",
   "metadata": {},
   "outputs": [],
   "source": [
    "\n",
    "# Encode categorical columns\n",
    "label_enc = LabelEncoder()\n",
    "for col in ['property_type', 'room_type', 'bed_type', 'cancellation_policy', 'city', 'neighbourhood']:\n",
    "    if col in df.columns:\n",
    "        df[col] = label_enc.fit_transform(df[col].astype(str))\n"
   ]
  },
  {
   "cell_type": "code",
   "execution_count": null,
   "id": "1dfe2151",
   "metadata": {},
   "outputs": [],
   "source": [
    "\n",
    "# Feature selection\n",
    "X = df[['property_type', 'room_type', 'accommodates', 'bathrooms', 'bedrooms', 'beds', 'number_of_reviews']]\n",
    "y = df['log_price']\n",
    "\n",
    "# Split dataset\n",
    "X_train, X_test, y_train, y_test = train_test_split(X, y, test_size=0.2, random_state=42)\n"
   ]
  },
  {
   "cell_type": "code",
   "execution_count": null,
   "id": "e176596a",
   "metadata": {},
   "outputs": [],
   "source": [
    "\n",
    "# Train model\n",
    "model = LinearRegression()\n",
    "model.fit(X_train, y_train)\n",
    "y_pred = model.predict(X_test)\n"
   ]
  },
  {
   "cell_type": "code",
   "execution_count": null,
   "id": "5ef7d09a",
   "metadata": {},
   "outputs": [],
   "source": [
    "\n",
    "# Evaluate model\n",
    "print(\"R²:\", r2_score(y_test, y_pred))\n",
    "print(\"MAE:\", mean_absolute_error(y_test, y_pred))\n",
    "print(\"RMSE:\", np.sqrt(mean_squared_error(y_test, y_pred)))\n"
   ]
  },
  {
   "cell_type": "code",
   "execution_count": null,
   "id": "5954e6de",
   "metadata": {},
   "outputs": [],
   "source": [
    "\n",
    "# Visualization\n",
    "plt.figure(figsize=(8,6))\n",
    "sns.scatterplot(x=y_test, y=y_pred)\n",
    "plt.xlabel(\"Actual Price (Log)\")\n",
    "plt.ylabel(\"Predicted Price (Log)\")\n",
    "plt.title(\"Actual vs Predicted Prices\")\n",
    "plt.grid(True)\n",
    "plt.show()\n"
   ]
  }
 ],
 "metadata": {},
 "nbformat": 4,
 "nbformat_minor": 5
}

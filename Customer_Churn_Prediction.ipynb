{
 "cells": [
  {
   "cell_type": "markdown",
   "id": "f60a8254",
   "metadata": {},
   "source": [
    "# 🔄 Customer Churn Prediction Project"
   ]
  },
  {
   "cell_type": "code",
   "execution_count": null,
   "id": "be383fc9",
   "metadata": {},
   "outputs": [],
   "source": [
    "\n",
    "# Import libraries\n",
    "import pandas as pd\n",
    "import numpy as np\n",
    "import matplotlib.pyplot as plt\n",
    "import seaborn as sns\n",
    "\n",
    "from sklearn.model_selection import train_test_split\n",
    "from sklearn.ensemble import RandomForestClassifier\n",
    "from sklearn.metrics import accuracy_score, precision_score, recall_score, f1_score\n",
    "from sklearn.preprocessing import LabelEncoder\n"
   ]
  },
  {
   "cell_type": "code",
   "execution_count": null,
   "id": "bba14c27",
   "metadata": {},
   "outputs": [],
   "source": [
    "\n",
    "# Load dataset (replace this with actual dataset path)\n",
    "df = pd.read_csv(\"Customer_data.csv\")\n",
    "df.head()\n"
   ]
  },
  {
   "cell_type": "code",
   "execution_count": null,
   "id": "06df872a",
   "metadata": {},
   "outputs": [],
   "source": [
    "\n",
    "# Encode binary and categorical columns\n",
    "df.replace(\" \", np.nan, inplace=True)\n",
    "df.dropna(inplace=True)\n",
    "binary_cols = ['gender', 'Partner', 'Dependents', 'PhoneService', 'MultipleLines',\n",
    "               'OnlineSecurity', 'OnlineBackup', 'DeviceProtection', 'TechSupport',\n",
    "               'StreamingTV', 'StreamingMovies', 'PaperlessBilling', 'Churn']\n",
    "df[binary_cols] = df[binary_cols].apply(LabelEncoder().fit_transform)\n",
    "categorical_cols = ['InternetService', 'Contract', 'PaymentMethod']\n",
    "df[categorical_cols] = df[categorical_cols].apply(LabelEncoder().fit_transform)\n"
   ]
  },
  {
   "cell_type": "code",
   "execution_count": null,
   "id": "9ab4daef",
   "metadata": {},
   "outputs": [],
   "source": [
    "\n",
    "# Convert TotalCharges to float\n",
    "df['TotalCharges'] = pd.to_numeric(df['TotalCharges'], errors='coerce')\n",
    "df.dropna(inplace=True)\n"
   ]
  },
  {
   "cell_type": "code",
   "execution_count": null,
   "id": "1531e6db",
   "metadata": {},
   "outputs": [],
   "source": [
    "\n",
    "# Feature selection\n",
    "X = df.drop(['customerID', 'Churn'], axis=1)\n",
    "y = df['Churn']\n",
    "\n",
    "# Train-test split\n",
    "X_train, X_test, y_train, y_test = train_test_split(X, y, test_size=0.2, random_state=42)\n"
   ]
  },
  {
   "cell_type": "code",
   "execution_count": null,
   "id": "eb319be4",
   "metadata": {},
   "outputs": [],
   "source": [
    "\n",
    "# Train model\n",
    "clf = RandomForestClassifier(n_estimators=100, random_state=42)\n",
    "clf.fit(X_train, y_train)\n",
    "y_pred = clf.predict(X_test)\n"
   ]
  },
  {
   "cell_type": "code",
   "execution_count": null,
   "id": "38592d98",
   "metadata": {},
   "outputs": [],
   "source": [
    "\n",
    "# Evaluation metrics\n",
    "print(\"Accuracy:\", accuracy_score(y_test, y_pred))\n",
    "print(\"Precision:\", precision_score(y_test, y_pred))\n",
    "print(\"Recall:\", recall_score(y_test, y_pred))\n",
    "print(\"F1 Score:\", f1_score(y_test, y_pred))\n"
   ]
  },
  {
   "cell_type": "code",
   "execution_count": null,
   "id": "b040c827",
   "metadata": {},
   "outputs": [],
   "source": [
    "\n",
    "# Feature importance\n",
    "plt.figure(figsize=(10,6))\n",
    "sns.barplot(x=clf.feature_importances_, y=X.columns)\n",
    "plt.title(\"Feature Importance\")\n",
    "plt.show()\n"
   ]
  }
 ],
 "metadata": {},
 "nbformat": 4,
 "nbformat_minor": 5
}
